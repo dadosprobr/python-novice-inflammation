{
 "cells": [
  {
   "cell_type": "markdown",
   "metadata": {},
   "source": [
    "#### AVISO: esse notebook contém diversos erros propositais, principalmente no Episódio 9"
   ]
  },
  {
   "cell_type": "markdown",
   "metadata": {},
   "source": [
    "# Aula 7\n",
    "\n",
    "## Episódio 8 (continuação)\n",
    "\n",
    "### Testando e documentando funções"
   ]
  },
  {
   "cell_type": "code",
   "execution_count": null,
   "metadata": {},
   "outputs": [],
   "source": [
    "import numpy\n",
    "\n",
    "def deslocar_média(dados, média_desejada):\n",
    "    '''Devolve novo array com os dados ajustados para que\n",
    "       sua média seja a média desejada.\n",
    "    \n",
    "    Examples\n",
    "    --------\n",
    "    \n",
    "    >>> deslocar_média([1, 2, 3], 0)\n",
    "    array([-1.,  0.,  1.])       \n",
    "    '''\n",
    "\n",
    "    return (dados - numpy.mean(dados)) + média_desejada\n"
   ]
  },
  {
   "cell_type": "code",
   "execution_count": null,
   "metadata": {},
   "outputs": [],
   "source": [
    "z = numpy.zeros((2,2))\n",
    "z"
   ]
  },
  {
   "cell_type": "code",
   "execution_count": null,
   "metadata": {},
   "outputs": [],
   "source": [
    "deslocar_média(z, 3)"
   ]
  },
  {
   "cell_type": "code",
   "execution_count": null,
   "metadata": {},
   "outputs": [],
   "source": [
    "dados = numpy.loadtxt(fname='inflammation-01.csv', delimiter=',')\n",
    "numpy.mean(dados)"
   ]
  },
  {
   "cell_type": "code",
   "execution_count": null,
   "metadata": {},
   "outputs": [],
   "source": [
    "ajustado = deslocar_média(dados, 0)"
   ]
  },
  {
   "cell_type": "code",
   "execution_count": null,
   "metadata": {},
   "outputs": [],
   "source": [
    "numpy.mean(ajustado)"
   ]
  },
  {
   "cell_type": "code",
   "execution_count": null,
   "metadata": {},
   "outputs": [],
   "source": [
    "import math\n",
    "math.isclose(0, numpy.mean(ajustado), abs_tol=0.000000001)"
   ]
  },
  {
   "cell_type": "code",
   "execution_count": null,
   "metadata": {},
   "outputs": [],
   "source": [
    "print('original: min, mean, max =',\n",
    "      numpy.min(dados),\n",
    "      numpy.mean(dados),\n",
    "      numpy.max(dados))\n",
    "\n",
    "ajustado = deslocar_média(dados, 0)\n",
    "print('ajustado: min, mean, max =',\n",
    "      numpy.min(ajustado),\n",
    "      numpy.mean(ajustado),\n",
    "      numpy.max(ajustado))\n"
   ]
  },
  {
   "cell_type": "code",
   "execution_count": null,
   "metadata": {},
   "outputs": [],
   "source": [
    "print('desvio padrão antes e depois:',\n",
    "      numpy.std(dados), numpy.std(ajustado))\n"
   ]
  },
  {
   "cell_type": "code",
   "execution_count": null,
   "metadata": {},
   "outputs": [],
   "source": [
    "print('desvio padrão antes e depois estão próximos?')\n",
    "print(math.isclose(numpy.std(dados), numpy.std(ajustado)))"
   ]
  },
  {
   "cell_type": "code",
   "execution_count": null,
   "metadata": {},
   "outputs": [],
   "source": [
    "print('diferença entre os desvios padrão antes e depois:',\n",
    "      numpy.std(dados) - numpy.std(ajustado), sep='\\n')\n"
   ]
  },
  {
   "cell_type": "code",
   "execution_count": null,
   "metadata": {},
   "outputs": [],
   "source": [
    "help(deslocar_média)"
   ]
  },
  {
   "cell_type": "markdown",
   "metadata": {},
   "source": [
    "### Definindo Defaults"
   ]
  },
  {
   "cell_type": "code",
   "execution_count": null,
   "metadata": {},
   "outputs": [],
   "source": [
    "import numpy\n",
    "\n",
    "def deslocar_média(dados, média_desejada=0.0):\n",
    "    '''Devolve novo array com os dados ajustados para que\n",
    "       sua média seja a média desejada, cujo padrão é 0.0.\n",
    "    \n",
    "    Examples\n",
    "    --------\n",
    "    \n",
    "    >>> deslocar_média([1, 2, 3])\n",
    "    array([-1.,  0.,  1.])       \n",
    "    '''\n",
    "\n",
    "    return (dados - numpy.mean(dados)) + média_desejada"
   ]
  },
  {
   "cell_type": "code",
   "execution_count": null,
   "metadata": {},
   "outputs": [],
   "source": [
    "deslocar_média([1, 2, 3])"
   ]
  },
  {
   "cell_type": "code",
   "execution_count": null,
   "metadata": {},
   "outputs": [],
   "source": [
    "mais_dados = 5 + numpy.zeros((2, 2))\n",
    "print('antes:')\n",
    "print(mais_dados)\n",
    "print('depois:')\n",
    "print(deslocar_média(mais_dados))\n"
   ]
  },
  {
   "cell_type": "code",
   "execution_count": null,
   "metadata": {},
   "outputs": [],
   "source": [
    "mais_dados = 5 + numpy.zeros((2, 2))\n",
    "print('antes:')\n",
    "print(mais_dados)\n",
    "print('depois:')\n",
    "print(deslocar_média(mais_dados, -5))\n"
   ]
  },
  {
   "cell_type": "code",
   "execution_count": null,
   "metadata": {},
   "outputs": [],
   "source": [
    "def mostrar(a=1, b=2, c=3):\n",
    "    print('a:', a, 'b:', b, 'c:', c)\n",
    "\n",
    "print('nenhum parâmetro:')\n",
    "mostrar()\n",
    "print('um parâmetro:')\n",
    "mostrar(55)\n",
    "print('dois parâmetros:')\n",
    "mostrar(55, 66)\n"
   ]
  },
  {
   "cell_type": "code",
   "execution_count": null,
   "metadata": {},
   "outputs": [],
   "source": [
    "mostrar(100, c=300)"
   ]
  },
  {
   "cell_type": "markdown",
   "metadata": {},
   "source": [
    "### Funções legíveis"
   ]
  },
  {
   "cell_type": "markdown",
   "metadata": {},
   "source": [
    "## Episódio 9"
   ]
  },
  {
   "cell_type": "code",
   "execution_count": null,
   "metadata": {},
   "outputs": [],
   "source": [
    "# Este código tem um erro proposital\n",
    "def sorvete_favorito():\n",
    "    sorvetes = [\n",
    "        \"chocolate\",\n",
    "        \"baunilha\",\n",
    "        \"morango\",\n",
    "    ]\n",
    "    print(sorvetes[3])\n",
    "\n",
    "sorvete_favorito()\n"
   ]
  },
  {
   "cell_type": "code",
   "execution_count": null,
   "metadata": {},
   "outputs": [],
   "source": [
    "# Este código tem um erro proposital\n",
    "def mostrar_sabor(n):\n",
    "    sorvetes = [\n",
    "        \"chocolate\",\n",
    "        \"baunilha\",\n",
    "        \"morango\",\n",
    "    ]\n",
    "    print(sorvetes[n])\n",
    "\n",
    "mostrar_sabor(3)\n"
   ]
  },
  {
   "cell_type": "code",
   "execution_count": null,
   "metadata": {},
   "outputs": [],
   "source": [
    "def some_function():\n",
    "    msg = \"hello, world!\"\n",
    "    print(msg)\n",
    "    return msg\n"
   ]
  },
  {
   "cell_type": "code",
   "execution_count": null,
   "metadata": {},
   "outputs": [],
   "source": [
    "def some_function():\n",
    "\tmsg = \"hello, world!\"\n",
    "\tprint(msg)\n",
    "        return msg\n",
    "\n"
   ]
  },
  {
   "cell_type": "markdown",
   "metadata": {},
   "source": [
    "### Erros em nomes de variáveis"
   ]
  },
  {
   "cell_type": "code",
   "execution_count": null,
   "metadata": {},
   "outputs": [],
   "source": [
    "a = b + 2"
   ]
  },
  {
   "cell_type": "code",
   "execution_count": null,
   "metadata": {},
   "outputs": [],
   "source": [
    "print('oi')"
   ]
  },
  {
   "cell_type": "code",
   "execution_count": null,
   "metadata": {},
   "outputs": [],
   "source": [
    "soma = 0\n",
    "for n in range(10):\n",
    "    soma = soma + n\n",
    "print(\"A soma é:\", soma)\n"
   ]
  },
  {
   "cell_type": "markdown",
   "metadata": {},
   "source": [
    "### Erros de índice"
   ]
  },
  {
   "cell_type": "code",
   "execution_count": null,
   "metadata": {},
   "outputs": [],
   "source": [
    "letters = ['a', 'b', 'c']\n",
    "print(\"Letter #1 is\", letters[0])\n",
    "print(\"Letter #2 is\", letters[1])\n",
    "print(\"Letter #3 is\", letters[2])\n",
    "print(\"Letter #4 is\", letters[3])\n"
   ]
  },
  {
   "cell_type": "markdown",
   "metadata": {},
   "source": [
    "### Erros com arquivos"
   ]
  },
  {
   "cell_type": "code",
   "execution_count": null,
   "metadata": {},
   "outputs": [],
   "source": [
    "meu_arq = open('meu_texto.txt')"
   ]
  },
  {
   "cell_type": "code",
   "execution_count": null,
   "metadata": {},
   "outputs": [],
   "source": [
    "import glob\n",
    "\n",
    "nomes = glob.glob('*')\n",
    "sorted(nomes)"
   ]
  },
  {
   "cell_type": "code",
   "execution_count": null,
   "metadata": {},
   "outputs": [],
   "source": [
    "%ls -l"
   ]
  },
  {
   "cell_type": "code",
   "execution_count": null,
   "metadata": {},
   "outputs": [],
   "source": [
    "meu_arq.read()"
   ]
  },
  {
   "cell_type": "code",
   "execution_count": null,
   "metadata": {},
   "outputs": [],
   "source": []
  }
 ],
 "metadata": {
  "kernelspec": {
   "display_name": "Python 3",
   "language": "python",
   "name": "python3"
  },
  "language_info": {
   "codemirror_mode": {
    "name": "ipython",
    "version": 3
   },
   "file_extension": ".py",
   "mimetype": "text/x-python",
   "name": "python",
   "nbconvert_exporter": "python",
   "pygments_lexer": "ipython3",
   "version": "3.7.6"
  }
 },
 "nbformat": 4,
 "nbformat_minor": 4
}
