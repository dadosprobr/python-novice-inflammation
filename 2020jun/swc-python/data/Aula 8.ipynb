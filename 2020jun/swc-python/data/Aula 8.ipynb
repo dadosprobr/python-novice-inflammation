{
 "cells": [
  {
   "cell_type": "markdown",
   "metadata": {},
   "source": [
    "# Aula 8\n",
    "\n",
    "## Exercícios do episódio 8\n",
    "\n",
    "### Combinando Strings"
   ]
  },
  {
   "cell_type": "code",
   "execution_count": null,
   "metadata": {},
   "outputs": [],
   "source": [
    "def cercar(texto, cerca):\n",
    "    return cerca + texto + cerca"
   ]
  },
  {
   "cell_type": "code",
   "execution_count": null,
   "metadata": {},
   "outputs": [],
   "source": [
    "cercar('name', '*')"
   ]
  },
  {
   "cell_type": "markdown",
   "metadata": {},
   "source": [
    "### Return versus print"
   ]
  },
  {
   "cell_type": "code",
   "execution_count": null,
   "metadata": {},
   "outputs": [],
   "source": [
    "def juntar(a, b):\n",
    "    return a + b"
   ]
  },
  {
   "cell_type": "code",
   "execution_count": null,
   "metadata": {},
   "outputs": [],
   "source": [
    "juntar('x', 'y')"
   ]
  },
  {
   "cell_type": "code",
   "execution_count": null,
   "metadata": {},
   "outputs": [],
   "source": [
    "resultado = juntar('x', 'y')"
   ]
  },
  {
   "cell_type": "code",
   "execution_count": null,
   "metadata": {},
   "outputs": [],
   "source": [
    "print(resultado)"
   ]
  },
  {
   "cell_type": "code",
   "execution_count": null,
   "metadata": {},
   "outputs": [],
   "source": [
    "def pontas(texto):\n",
    "    return texto[0] + texto[-1]"
   ]
  },
  {
   "cell_type": "code",
   "execution_count": null,
   "metadata": {},
   "outputs": [],
   "source": [
    "pontas('hélio')"
   ]
  },
  {
   "cell_type": "markdown",
   "metadata": {},
   "source": [
    "### Normalizando um Array"
   ]
  },
  {
   "cell_type": "code",
   "execution_count": null,
   "metadata": {},
   "outputs": [],
   "source": [
    "import numpy as np\n",
    "\n",
    "def reescalar(matriz):\n",
    "    '''Recebe um array como entrada e retorna um array correspondente\n",
    "    dimensionado para que 0 corresponda ao valor mínimo e 1 ao\n",
    "    valor máximo do array de entrada.\n",
    "\n",
    "    Exemplo:\n",
    "\n",
    "        >>> rescale(numpy.arange(10.0))\n",
    "        array([ 0.        ,  0.11111111,  0.22222222,  0.33333333,  0.44444444,\n",
    "               0.55555556,  0.66666667,  0.77777778,  0.88888889,  1.        ])\n",
    "        >>> rescale(numpy.linspace(0, 100, 5))\n",
    "        array([ 0.  ,  0.25,  0.5 ,  0.75,  1.  ])\n",
    "    '''\n",
    "    mínimo = np.min(matriz)\n",
    "    máximo = np.max(matriz)\n",
    "    return (matriz - mínimo) / (máximo - mínimo)"
   ]
  },
  {
   "cell_type": "code",
   "execution_count": null,
   "metadata": {},
   "outputs": [],
   "source": [
    "np.linspace(0, 20, 10)"
   ]
  },
  {
   "cell_type": "code",
   "execution_count": null,
   "metadata": {},
   "outputs": [],
   "source": [
    "reescalar(np.linspace(0, 20, 10))"
   ]
  },
  {
   "cell_type": "code",
   "execution_count": null,
   "metadata": {},
   "outputs": [],
   "source": [
    "reescalar?"
   ]
  },
  {
   "cell_type": "markdown",
   "metadata": {},
   "source": [
    "### Definindo parâmatros padrão"
   ]
  },
  {
   "cell_type": "code",
   "execution_count": null,
   "metadata": {},
   "outputs": [],
   "source": [
    "def reescalar(matriz, arg_mín=0.0, arg_máx=1.0):\n",
    "    '''Recebe um array como entrada e retorna um array correspondente\n",
    "    dimensionado conforme os parâmetros especificados como mínimo e máximo.\n",
    "    '''\n",
    "    mínimo = np.min(matriz)\n",
    "    máximo = np.max(matriz)\n",
    "    temp = (matriz - mínimo) / (máximo - mínimo)\n",
    "    return temp * (arg_máx - arg_mín) + arg_mín"
   ]
  },
  {
   "cell_type": "code",
   "execution_count": null,
   "metadata": {},
   "outputs": [],
   "source": [
    "reescalar(np.linspace(0, 20, 10))"
   ]
  },
  {
   "cell_type": "code",
   "execution_count": null,
   "metadata": {},
   "outputs": [],
   "source": [
    "reescalar(np.linspace(0, 20, 10), 5, 50)"
   ]
  },
  {
   "cell_type": "markdown",
   "metadata": {},
   "source": [
    "### Variáveis Internas e Externas da Função"
   ]
  },
  {
   "cell_type": "code",
   "execution_count": null,
   "metadata": {},
   "outputs": [],
   "source": [
    "f = 0\n",
    "k = 0\n",
    "\n",
    "def f2k(f):\n",
    "    k = ((f-32)*(5.0/9.0)) + 273.15\n",
    "    return k\n",
    "\n",
    "print(f2k(8))\n",
    "print(f2k(41))\n",
    "print(f2k(32))\n",
    "\n",
    "print(k)"
   ]
  },
  {
   "cell_type": "markdown",
   "metadata": {},
   "source": [
    "### Mesclando parâmetros Padrão e Não-Padrão"
   ]
  },
  {
   "cell_type": "markdown",
   "metadata": {},
   "source": [
    "### O Velho Troca Troca"
   ]
  },
  {
   "cell_type": "code",
   "execution_count": null,
   "metadata": {},
   "outputs": [],
   "source": [
    "a = 1\n",
    "b = 2\n",
    "a, b = b, a\n",
    "a"
   ]
  },
  {
   "cell_type": "code",
   "execution_count": null,
   "metadata": {},
   "outputs": [],
   "source": [
    "b"
   ]
  },
  {
   "cell_type": "markdown",
   "metadata": {},
   "source": [
    "### Código Legível"
   ]
  },
  {
   "cell_type": "markdown",
   "metadata": {},
   "source": [
    "## Episódio 10: Programação defensiva"
   ]
  },
  {
   "cell_type": "code",
   "execution_count": null,
   "metadata": {},
   "outputs": [],
   "source": [
    "numbers = [1.5, 2.3, 0.7, -0.001, 4.4]\n",
    "total = 0.0\n",
    "for num in numbers:\n",
    "    assert num > 0.0, 'Data should only contain positive values'\n",
    "    total += num\n",
    "print('total is:', total)"
   ]
  },
  {
   "cell_type": "code",
   "execution_count": null,
   "metadata": {},
   "outputs": [],
   "source": [
    "assert True"
   ]
  },
  {
   "cell_type": "code",
   "execution_count": null,
   "metadata": {},
   "outputs": [],
   "source": [
    "assert False, 'Isso é falso!'"
   ]
  },
  {
   "cell_type": "code",
   "execution_count": null,
   "metadata": {},
   "outputs": [],
   "source": [
    "def média(a, b):\n",
    "    res = (a + b) / 2\n",
    "    if a < b:\n",
    "        menor, maior = a, b\n",
    "    else:\n",
    "        menor, maior = b, a\n",
    "    assert res >= menor, res\n",
    "    assert res <= maior, res\n",
    "    return res\n"
   ]
  },
  {
   "cell_type": "code",
   "execution_count": null,
   "metadata": {},
   "outputs": [],
   "source": [
    "média(3, 4)"
   ]
  },
  {
   "cell_type": "code",
   "execution_count": null,
   "metadata": {},
   "outputs": [],
   "source": [
    "def média(lista):\n",
    "    assert len(lista) > 0, 'a lista não pode ser vazia'\n",
    "    res = sum(lista) / len(lista)\n",
    "    assert res >= min(lista), f'o resultado {res} deveria ser >= mínimo'\n",
    "    assert res <= max(lista), f'o resultado {res} deveria ser <= máximo'\n",
    "    return res\n",
    "    "
   ]
  },
  {
   "cell_type": "code",
   "execution_count": null,
   "metadata": {},
   "outputs": [],
   "source": [
    "média([1])"
   ]
  },
  {
   "cell_type": "code",
   "execution_count": null,
   "metadata": {},
   "outputs": [],
   "source": [
    "def normalize_rectangle(rect):\n",
    "    '''Normalizes a rectangle so that it is at the origin and 1.0 units long on its longest axis.\n",
    "    Input should be of the format (x0, y0, x1, y1).\n",
    "    (x0, y0) and (x1, y1) define the lower left and upper right corners\n",
    "    of the rectangle, respectively.'''\n",
    "    assert len(rect) == 4, 'Rectangles must contain 4 coordinates'\n",
    "    x0, y0, x1, y1 = rect\n",
    "    assert x0 < x1, 'Invalid X coordinates'\n",
    "    assert y0 < y1, 'Invalid Y coordinates'\n",
    "\n",
    "    dx = x1 - x0\n",
    "    dy = y1 - y0\n",
    "    if dx > dy:\n",
    "        scaled = dy / dx\n",
    "        upper_x, upper_y = 1.0, scaled\n",
    "    else:\n",
    "        scaled = dx / dy\n",
    "        upper_x, upper_y = scaled, 1.0\n",
    "\n",
    "    assert 0 < upper_x <= 1.0, f'Calculated upper X {upper_x} coordinate invalid'\n",
    "    assert 0 < upper_y <= 1.0, f'Calculated upper Y {upper_y} coordinate invalid'\n",
    "\n",
    "    return (0, 0, upper_x, upper_y)"
   ]
  },
  {
   "cell_type": "code",
   "execution_count": null,
   "metadata": {},
   "outputs": [],
   "source": [
    "normalize_rectangle((1, 2, 4, 6))"
   ]
  },
  {
   "cell_type": "code",
   "execution_count": null,
   "metadata": {},
   "outputs": [],
   "source": [
    "normalize_rectangle((1, 2, 6, 4))"
   ]
  },
  {
   "cell_type": "markdown",
   "metadata": {},
   "source": [
    "## TDD"
   ]
  },
  {
   "cell_type": "code",
   "execution_count": null,
   "metadata": {},
   "outputs": [],
   "source": [
    "def test_sobreposição_um_dentro_do_outro():\n",
    "    faixa1 = (-3, 5)\n",
    "    faixa2 = (0, 4.5)\n",
    "    res = sobreposição(faixa1, faixa2)\n",
    "    assert res == faixa2\n",
    "    res = sobreposição(faixa2, faixa1)\n",
    "    assert res == faixa2\n",
    "\n",
    "    \n",
    "def test_sobreposição_parcial():\n",
    "    faixa1 = (-3, 3)\n",
    "    faixa2 = (0, 4.5)\n",
    "    res = sobreposição(faixa1, faixa2)\n",
    "    assert res == faixa2\n",
    "    res = sobreposição(faixa2, faixa1)\n",
    "    assert res == faixa2\n",
    "    \n",
    "    \n",
    "def test_sobreposição_inexistente():\n",
    "    faixa1 = (-3, 5)\n",
    "    faixa2 = (6, 10)\n",
    "    res = sobreposição(faixa1, faixa2)\n",
    "    assert res is None, f'esperava None, veio {res}'\n",
    "    "
   ]
  },
  {
   "cell_type": "code",
   "execution_count": null,
   "metadata": {},
   "outputs": [],
   "source": [
    "def testar():\n",
    "    test_sobreposição_um_dentro_do_outro()\n",
    "    test_sobreposição_inexistente()\n",
    "    test_sobreposição_parcial()\n",
    "    print('OK')"
   ]
  },
  {
   "cell_type": "code",
   "execution_count": null,
   "metadata": {},
   "outputs": [],
   "source": [
    "def sobreposição(faixa1, faixa2):\n",
    "    inferior = max(faixa1[0], faixa2[0])\n",
    "    superior = min(faixa1[1], faixa2[1])\n",
    "    if inferior <= superior:\n",
    "        return (inferior, superior)\n",
    "    else:\n",
    "        return None"
   ]
  },
  {
   "cell_type": "code",
   "execution_count": null,
   "metadata": {},
   "outputs": [],
   "source": [
    "testar()"
   ]
  },
  {
   "cell_type": "code",
   "execution_count": null,
   "metadata": {},
   "outputs": [],
   "source": []
  }
 ],
 "metadata": {
  "kernelspec": {
   "display_name": "Python 3",
   "language": "python",
   "name": "python3"
  },
  "language_info": {
   "codemirror_mode": {
    "name": "ipython",
    "version": 3
   },
   "file_extension": ".py",
   "mimetype": "text/x-python",
   "name": "python",
   "nbconvert_exporter": "python",
   "pygments_lexer": "ipython3",
   "version": "3.7.6"
  }
 },
 "nbformat": 4,
 "nbformat_minor": 4
}
